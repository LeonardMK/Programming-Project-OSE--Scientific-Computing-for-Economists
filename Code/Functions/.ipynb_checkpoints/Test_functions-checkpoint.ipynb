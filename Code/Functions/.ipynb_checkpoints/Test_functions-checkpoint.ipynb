{
 "cells": [
  {
   "cell_type": "markdown",
   "metadata": {},
   "source": [
    "## Test functions used for benchmarking"
   ]
  },
  {
   "cell_type": "markdown",
   "metadata": {},
   "source": [
    "Every test function is a method that takes as inputs the number of dimensions, the domain and further parameters. The output is the function value at $ x $. Further the optimal solution is stored.\n",
    "- Divide problems into easy and hard\n",
    "- Create starting points separately\n",
    "- "
   ]
  },
  {
   "cell_type": "code",
   "execution_count": 2,
   "metadata": {},
   "outputs": [],
   "source": [
    "# Load some libraries first\n",
    "import numpy as np"
   ]
  },
  {
   "cell_type": "markdown",
   "metadata": {},
   "source": [
    "### Single objective optimization"
   ]
  },
  {
   "cell_type": "code",
   "execution_count": 7,
   "metadata": {},
   "outputs": [],
   "source": [
    "class Rastrigin:\n",
    "    \n",
    "    def __init__(self, dim):\n",
    "        self.dim = dim\n",
    "        self.solution = np.zeros(dim)\n",
    "        # Define lower and upper bounds of domain\n",
    "        self.lb = np.repeat(-5.12, dim)\n",
    "        self.ub = np.repeat(+5.12, dim)\n",
    "        \n",
    "    def fun(self, x):\n",
    "        A = 10\n",
    "    \n",
    "        if np.any(np.abs(x) > 5.12):\n",
    "            raise ValueError(\"The absolute value of x exceeded 5.12\")\n",
    "        \n",
    "        return A * self.dim + np.sum(x ** 2 - A * np.cos(2 * np.pi * x))\n",
    "\n",
    "class Ackley:\n",
    "    \n",
    "    def __init__(self):\n",
    "        self.solution = np.zeros(2)\n",
    "        # Define lower and upper bounds of domain\n",
    "        self.lb = [-5, -np.inf]\n",
    "        self.ub = [np.inf, 5]\n",
    "\n",
    "    def fun(self, x):\n",
    "        if (x[0] < -5) | (x[1] > 5):\n",
    "            raise ValueError(\"It must hold that x[0] >= -5 and x[1] <= 5.\")\n",
    "\n",
    "        return (-20 * np.exp(-0.2 * np.sqrt(0.5 * (x[0] ** 2 + x[1] ** 2)))\n",
    "               - np.exp(0.5 * (np.cos(2 * np.pi * x[0]) + np.cos(2 * np.pi * x[1])))\n",
    "               + np.exp(1) + 20)\n",
    "\n",
    "class Sphere:\n",
    "    \n",
    "    def __init__(self, dim):\n",
    "        self.solution = np.zeros(dim)\n",
    "        # Define lower and upper bounds of domain\n",
    "        self.lb = np.repeat(-np.inf, dim)\n",
    "        self.ub = np.repeat(np.inf, dim)\n",
    "\n",
    "    def fun(self, x):\n",
    "        return np.sum(x ** 2)\n",
    "\n",
    "\n",
    "class Rosenbrock:\n",
    "\n",
    "    def __init__(self, dim):\n",
    "        self.solution = np.ones(dim)\n",
    "        # Define lower and upper bounds of domain\n",
    "        self.lb = np.repeat(-np.inf, dim)\n",
    "        self.ub = np.repeat(np.inf, dim)\n",
    "    \n",
    "    def fun(self, x):\n",
    "        return np.sum(100 * (x[1::] - x[0:-1] ** 2) ** 2 + (1 - x[0:-1]) ** 2)\n",
    "\n",
    "class Beale:\n",
    "\n",
    "    def __init__(self):\n",
    "        self.solution = [3, 0.5]\n",
    "        # Define lower and upper bounds of domain\n",
    "        self.lb = [-4.5, -np.inf]\n",
    "        self.ub = [np.inf, 4.5]\n",
    "    \n",
    "    def fun(self, x):\n",
    "        if (x[0] < -4.5) | (x[1] > 4.5):\n",
    "            raise ValueError(\"It must hold that x[0] >= -4.5 and x[1] <= 4.5.\")\n",
    "        \n",
    "        return ((1.5 - x[0] + x[0] * x[1]) ** 2 + (2.25 - x[0] + x[0] * x[1] ** 2) ** 2 \n",
    "               + (2.625 - x[0] + x[0] * x[1] ** 3))\n",
    "\n",
    "class Himmelblau:\n",
    "    \n",
    "    def __init__(self):\n",
    "        self.solution = np.array(\n",
    "            [3, 2, -2.805118, 3.131312, -3.779310, -3.283186, 3.584428, -1.848126])\n",
    "        # Define lower and upper bounds of domain\n",
    "        self.lb = [-5, -np.inf]\n",
    "        self.ub = [np.inf, 5]\n",
    "    \n",
    "    def fun(self, x):\n",
    "        if (x[0] < -5) | (x[1] > 5):\n",
    "            raise ValueError(\"It must hold that x >= -5 and y <= 5.\")\n",
    "            \n",
    "        return (x[0] ** 2 + x[1] - 11) ** 2 + (x[0] + x[1] ** 2 - 7) ** 2\n",
    "\n",
    "\n",
    "class McCormick:\n",
    "    \n",
    "    def __init__(self):\n",
    "        self.solution = [-0.54719, -1.54719]\n",
    "        # Define lower and upper bounds of domain\n",
    "        self.lb = [-1.5, -3]\n",
    "        self.ub = [4, 4]\n",
    "    \n",
    "    def fun(self, x):\n",
    "        if (x[0] < -1.5) | (x[0] > 4) | (x[1] < -3) | (x[1] > 4):\n",
    "            raise ValueError(\"Domain missspecified x[0] in [-1.5, 4] and x[1] in [-3, 4]\")\n",
    "\n",
    "        return (np.sin(x[0] + x[1]) + (x[0] - x[1]) ** 2 - 1.5 * x[0] + 2.5 * x[1] + 1)\n",
    "\n",
    "class Schaffer_No2:\n",
    "    \n",
    "    def __init__(self):\n",
    "        self.solution = np.zeros(2)\n",
    "        # Define lower and upper bounds of domain\n",
    "        self.lb = [-100, -np.inf]\n",
    "        self.ub = [np.inf, 100]\n",
    "    \n",
    "    def fun(self, x):\n",
    "        if (x[0] < -100) | (x[1] > 100):\n",
    "            raise ValueError(\"It must hold that x >= -100 and y <= 100\")\n",
    "\n",
    "        return (0.5 + (np.sin(x[0] ** 2 - x[1] ** 2) ** 2 - 0.5) \n",
    "               / (1 + 0.001 * (x[0] ** 2 + x[1] ** 2)) ** 2)"
   ]
  },
  {
   "cell_type": "markdown",
   "metadata": {},
   "source": [
    "### Constrained Optimization"
   ]
  },
  {
   "cell_type": "code",
   "execution_count": null,
   "metadata": {},
   "outputs": [],
   "source": []
  },
  {
   "cell_type": "markdown",
   "metadata": {},
   "source": [
    "### Multiobjective Function"
   ]
  },
  {
   "cell_type": "code",
   "execution_count": null,
   "metadata": {},
   "outputs": [],
   "source": []
  },
  {
   "cell_type": "markdown",
   "metadata": {},
   "source": [
    "### Economic Functions \n",
    "- Dynamic Programming\n",
    "- Some market formulas"
   ]
  },
  {
   "cell_type": "code",
   "execution_count": null,
   "metadata": {},
   "outputs": [],
   "source": []
  },
  {
   "cell_type": "markdown",
   "metadata": {},
   "source": [
    "### Showcase"
   ]
  },
  {
   "cell_type": "code",
   "execution_count": 6,
   "metadata": {},
   "outputs": [
    {
     "data": {
      "text/plain": [
       "2.637531092108304"
      ]
     },
     "execution_count": 6,
     "metadata": {},
     "output_type": "execute_result"
    }
   ],
   "source": [
    "ackley = Ackley()\n",
    "ackley.fun([1, 0])"
   ]
  },
  {
   "cell_type": "code",
   "execution_count": null,
   "metadata": {},
   "outputs": [],
   "source": []
  }
 ],
 "metadata": {
  "kernelspec": {
   "display_name": "Python 3",
   "language": "python",
   "name": "python3"
  },
  "language_info": {
   "codemirror_mode": {
    "name": "ipython",
    "version": 3
   },
   "file_extension": ".py",
   "mimetype": "text/x-python",
   "name": "python",
   "nbconvert_exporter": "python",
   "pygments_lexer": "ipython3",
   "version": "3.7.8"
  }
 },
 "nbformat": 4,
 "nbformat_minor": 4
}
