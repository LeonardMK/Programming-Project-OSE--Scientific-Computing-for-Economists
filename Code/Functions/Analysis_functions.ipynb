{
 "cells": [
  {
   "cell_type": "markdown",
   "metadata": {},
   "source": [
    "Define functions for plotting benchmarking results"
   ]
  },
  {
   "cell_type": "code",
   "execution_count": 19,
   "metadata": {},
   "outputs": [],
   "source": [
    "import numpy as np\n",
    "import pygmo as pg\n",
    "import scipy.optimize as opt\n",
    "import sys"
   ]
  },
  {
   "cell_type": "markdown",
   "metadata": {},
   "source": [
    "Run some test models first on the Rastrigin function."
   ]
  },
  {
   "cell_type": "code",
   "execution_count": 20,
   "metadata": {},
   "outputs": [],
   "source": [
    "# Need to run the Test_functions nb to get the functions\n",
    "%run Test_functions.ipynb\n",
    "\n",
    "# Selected methods\n",
    "scipy_lo_methods = [\"L-BFGS-B\", \"Nelder-Mead\"]\n",
    "scipy_go_methods = [\"basinhopping\", \"brute\", \"differential_evolution\", \"shgo\"]\n",
    "pyOpt_methods = [\"NSGA2\", \"ALPSO\"]\n",
    "all_methods = scipy_lo_methods + scipy_go_methods + pyOpt_methods\n",
    "\n",
    "# Need a function that returns a tuple containing lower and upper bounds\n",
    "def create_bounds(lower, upper):\n",
    "    \n",
    "    if len(lower) != len(upper):\n",
    "        raise TypeError(\"The length of lower ({0}) and upper ({1}) differ.\".format(len(lower), len(upper)))\n",
    "        \n",
    "    if lower > upper:\n",
    "        raise ValueError(\"The value of at least one lower bound, exceeds that of an upper bound.\")\n",
    "    \n",
    "    dim_bounds = len(lower)    \n",
    "    bounds = list()\n",
    "    for i in range(dim_bounds):\n",
    "        if np.abs(lower[i]) == np.inf:\n",
    "            lb = None\n",
    "        else:\n",
    "            lb = lower[i]\n",
    "        if np.abs(upper[i]) == np.inf:\n",
    "            ub = None\n",
    "        else:\n",
    "            ub = upper[i]\n",
    "        \n",
    "        bounds.append((lb, ub))\n",
    "    \n",
    "    return bounds"
   ]
  },
  {
   "cell_type": "markdown",
   "metadata": {},
   "source": [
    "### Setup\n",
    "\n",
    "Need to get some solved optimization algorithms first. Test with the Ackley function."
   ]
  },
  {
   "cell_type": "code",
   "execution_count": 3,
   "metadata": {},
   "outputs": [],
   "source": [
    "ack = Ackley()\n",
    "x0 = np.random.uniform(low = -5, high = 5, size = 2)\n",
    "bounds = create_bounds(ack.lb, ack.ub)\n",
    "bh_bounds = bh_Bounds(ack.lb, ack.ub)"
   ]
  },
  {
   "cell_type": "code",
   "execution_count": 8,
   "metadata": {},
   "outputs": [],
   "source": [
    "res_bh = opt.basinhopping(ack.fun, x0, minimizer_kwargs = {\"method\": \"L-BFGS-B\", \"bounds\": bounds})\n",
    "res_shgo = opt.shgo(ack.fun, bounds)\n",
    "res_"
   ]
  },
  {
   "cell_type": "markdown",
   "metadata": {},
   "source": [
    "### Trajectory Plot\n",
    "\n",
    "A trajectory plot shows how the algorithm moved from iteration to iteration. Want to have one plot for multiple algorithms. EA need a single plot with multiple points."
   ]
  },
  {
   "cell_type": "markdown",
   "metadata": {},
   "source": [
    "### Convergence Plot\n",
    "\n",
    "Plots"
   ]
  },
  {
   "cell_type": "markdown",
   "metadata": {},
   "source": [
    "## "
   ]
  }
 ],
 "metadata": {
  "kernelspec": {
   "display_name": "Python 3",
   "language": "python",
   "name": "python3"
  },
  "language_info": {
   "codemirror_mode": {
    "name": "ipython",
    "version": 3
   },
   "file_extension": ".py",
   "mimetype": "text/x-python",
   "name": "python",
   "nbconvert_exporter": "python",
   "pygments_lexer": "ipython3",
   "version": "3.7.8"
  }
 },
 "nbformat": 4,
 "nbformat_minor": 4
}
