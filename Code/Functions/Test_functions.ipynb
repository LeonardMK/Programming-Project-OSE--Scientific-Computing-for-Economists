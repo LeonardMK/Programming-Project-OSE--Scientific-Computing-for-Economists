{
 "cells": [
  {
   "cell_type": "markdown",
   "metadata": {},
   "source": [
    "## Parameters set for Benchmarking"
   ]
  },
  {
   "cell_type": "markdown",
   "metadata": {},
   "source": [
    "In this notebook I set up parameters used for tuning optimization algorithms. Since every algorithm accepts different parameters they are defined manually. I generate sets of parameters from a uniform distribution over the applicable range. To make sure that all combinations are poosible I use the package `itertools`. If the parameter range i"
   ]
  },
  {
   "cell_type": "code",
   "execution_count": 5,
   "metadata": {},
   "outputs": [],
   "source": [
    "# Load some libraries first\n",
    "import itertools\n",
    "import numpy as np\n",
    "import pandas as pd\n",
    "import pygmo as pg"
   ]
  },
  {
   "cell_type": "markdown",
   "metadata": {},
   "source": [
    "### Extended Ant Colony Optimization\n",
    "\n",
    "- `ker` (`int`): Default is 63. Schlueter, et al. (2009) propose 15. "
   ]
  },
  {
   "cell_type": "markdown",
   "metadata": {},
   "source": [
    "### Target values\n",
    "\n",
    "Every test function implemented in the `pygmo` library is fixed cost. Therefore a solution vector and value are known. To assess the quality of a solution I need to get these values. Since `pygmo` provides no easily accesible interface to a solution once the problem is defined I define my own function called `get_target`, which provides us with the solution vector and the function value of a given problem. Additional parameters can be set using a dicitonary for `kwargs`. "
   ]
  },
  {
   "cell_type": "code",
   "execution_count": 15,
   "metadata": {},
   "outputs": [],
   "source": [
    "def get_target(problem_name, kwargs_problem):\n",
    "    \n",
    "    target = [getattr(pg, problem_name)(**kwargs_problem).best_known()]\n",
    "    f_best = pg.problem(getattr(pg, problem_name)(**kwargs_problem)).fitness(target[0])\n",
    "    target.append(f_best)\n",
    "    \n",
    "    return target"
   ]
  },
  {
   "cell_type": "code",
   "execution_count": 14,
   "metadata": {},
   "outputs": [
    {
     "data": {
      "text/plain": [
       "array([0.])"
      ]
     },
     "execution_count": 14,
     "metadata": {},
     "output_type": "execute_result"
    }
   ],
   "source": [
    "get_target(\"rosenbrock\", {\"dim\": 10})"
   ]
  },
  {
   "cell_type": "markdown",
   "metadata": {},
   "source": [
    "### User defined economic Problems\n",
    "Use some functions from the book numerical methods for economics."
   ]
  },
  {
   "cell_type": "code",
   "execution_count": null,
   "metadata": {},
   "outputs": [],
   "source": []
  }
 ],
 "metadata": {
  "kernelspec": {
   "display_name": "Python 3",
   "language": "python",
   "name": "python3"
  },
  "language_info": {
   "codemirror_mode": {
    "name": "ipython",
    "version": 3
   },
   "file_extension": ".py",
   "mimetype": "text/x-python",
   "name": "python",
   "nbconvert_exporter": "python",
   "pygments_lexer": "ipython3",
   "version": "3.7.8"
  }
 },
 "nbformat": 4,
 "nbformat_minor": 4
}
